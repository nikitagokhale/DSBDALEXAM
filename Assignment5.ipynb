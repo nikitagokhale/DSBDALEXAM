{
 "cells": [
  {
   "cell_type": "code",
   "execution_count": 1,
   "id": "11ba79f5",
   "metadata": {},
   "outputs": [
    {
     "name": "stdout",
     "output_type": "stream",
     "text": [
      "           Suburb          mean     median       min        max            std\n",
      "0      Abbotsford  1.060366e+06  1093500.0  300000.0  1876000.0  361279.965616\n",
      "1      Aberfeldie  1.277455e+06  1300000.0  280000.0  3900000.0  709210.417641\n",
      "2    Airport West  7.566567e+05   755000.0  440000.0  1250000.0  170008.849643\n",
      "3       Albanvale  5.370833e+05   540750.0  415000.0   655000.0   78723.831631\n",
      "4     Albert Park  1.941355e+06  1900000.0  442500.0  4735000.0  732435.924227\n",
      "..            ...           ...        ...       ...        ...            ...\n",
      "309    Wonga Park  9.000000e+05   900000.0  900000.0   900000.0            NaN\n",
      "310  Wyndham Vale  4.832500e+05   479000.0  475000.0   500000.0   11354.147554\n",
      "311     Yallambie  8.396875e+05   773000.0  602500.0  1670000.0  213571.839685\n",
      "312    Yarra Glen  6.200000e+05   620000.0  620000.0   620000.0            NaN\n",
      "313    Yarraville  9.886155e+05   953000.0  330000.0  2450000.0  343162.909944\n",
      "\n",
      "[314 rows x 6 columns]\n"
     ]
    }
   ],
   "source": [
    "import pandas as pd\n",
    "\n",
    "# Load the dataset\n",
    "df = pd.read_csv('melb_data.csv')\n",
    "\n",
    "# Calculate summary statistics\n",
    "summary_stats = df.groupby('Suburb')['Price'].agg(['mean', 'median', 'min', 'max', 'std']).reset_index()\n",
    "\n",
    "# Print the summary statistics\n",
    "print(summary_stats)"
   ]
  },
  {
   "cell_type": "code",
   "execution_count": null,
   "id": "a83a0402",
   "metadata": {},
   "outputs": [],
   "source": []
  }
 ],
 "metadata": {
  "kernelspec": {
   "display_name": "Python 3 (ipykernel)",
   "language": "python",
   "name": "python3"
  },
  "language_info": {
   "codemirror_mode": {
    "name": "ipython",
    "version": 3
   },
   "file_extension": ".py",
   "mimetype": "text/x-python",
   "name": "python",
   "nbconvert_exporter": "python",
   "pygments_lexer": "ipython3",
   "version": "3.10.1"
  }
 },
 "nbformat": 4,
 "nbformat_minor": 5
}
