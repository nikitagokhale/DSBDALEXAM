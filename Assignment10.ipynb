{
 "cells": [
  {
   "cell_type": "code",
   "execution_count": 6,
   "id": "74938e60",
   "metadata": {},
   "outputs": [],
   "source": [
    "import pandas as pd\n",
    "import string\n",
    "f = open('TextFile.txt','r')\n",
    "para1 = f.read()\n",
    "f = open('TextFile2.txt','r')\n",
    "para2 = f.read()"
   ]
  },
  {
   "cell_type": "code",
   "execution_count": 7,
   "id": "f4abea7a",
   "metadata": {},
   "outputs": [
    {
     "name": "stdout",
     "output_type": "stream",
     "text": [
      "The sun cast a warm golden glow over the tranquil meadow as a gentle breeze rustled through the tall grass. Birds chirped melodiously in the distance, their joyful songs echoing through the air. A group of children played gleefully near a sparkling stream, their laughter contagious and full of pure delight. Butterflies danced gracefully from flower to flower, their vibrant colors adding to the tapestry of nature's beauty. It was a moment of serenity, a fleeting glimpse into the harmonious symphony of life.\n",
      "In the bustling city streets, the sounds of car horns and chatter filled the air, creating a vibrant cacophony of urban life. Skyscrapers towered overhead, their glass facades reflecting the sunlight and creating a dazzling display. People hurried by, their footsteps creating a rhythmic beat on the pavement. Street vendors lined the sidewalks, their colorful stalls bursting with a variety of goods and enticing aromas. The city buzzed with energy and excitement, each corner revealing a new adventure waiting to be discovered. Amidst the chaos, a sense of possibility hung in the air, reminding everyone that dreams could be pursued and futures could be shaped.\n"
     ]
    }
   ],
   "source": [
    "print(para1)\n",
    "print(para2)"
   ]
  },
  {
   "cell_type": "code",
   "execution_count": 14,
   "id": "79b0bda0",
   "metadata": {},
   "outputs": [],
   "source": [
    "#Remove punctuation marks from the strings\n",
    "str1 = str1.lower()\n",
    "str2 = str2.lower()\n",
    "str1 = str1.translate(str.maketrans('','',string.punctuation))\n",
    "str2 = str2.translate(str.maketrans('','',string.punctuation))"
   ]
  },
  {
   "cell_type": "code",
   "execution_count": 15,
   "id": "873e7b3c",
   "metadata": {},
   "outputs": [
    {
     "name": "stdout",
     "output_type": "stream",
     "text": [
      "the sun cast a warm golden glow over the tranquil meadow as a gentle breeze rustled through the tall grass birds chirped melodiously in the distance their joyful songs echoing through the air a group of children played gleefully near a sparkling stream their laughter contagious and full of pure delight butterflies danced gracefully from flower to flower their vibrant colors adding to the tapestry of natures beauty it was a moment of serenity a fleeting glimpse into the harmonious symphony of life\n",
      "in the bustling city streets the sounds of car horns and chatter filled the air creating a vibrant cacophony of urban life skyscrapers towered overhead their glass facades reflecting the sunlight and creating a dazzling display people hurried by their footsteps creating a rhythmic beat on the pavement street vendors lined the sidewalks their colorful stalls bursting with a variety of goods and enticing aromas the city buzzed with energy and excitement each corner revealing a new adventure waiting to be discovered amidst the chaos a sense of possibility hung in the air reminding everyone that dreams could be pursued and futures could be shaped\n"
     ]
    }
   ],
   "source": [
    "print(str1)\n",
    "print(str2)"
   ]
  },
  {
   "cell_type": "code",
   "execution_count": 11,
   "id": "795ab79b",
   "metadata": {},
   "outputs": [
    {
     "name": "stdout",
     "output_type": "stream",
     "text": [
      "{\"couldn't\", 'doesn', \"don't\", 'before', 'i', 'an', 'this', 'because', 'it', \"haven't\", 'our', 'there', 't', 'each', \"hadn't\", 'against', 'when', 'yours', 'under', 'too', 'not', 'here', 'am', 'up', 'm', 'was', 'at', \"needn't\", 'have', 'just', 'itself', 'all', 'again', 'about', 'should', 'both', 'out', 'over', 'during', 'hasn', 'shouldn', 'does', 'and', 'down', 'with', 'off', \"that'll\", 'of', 'any', 'what', 'do', \"shouldn't\", 'for', 'will', 'isn', \"should've\", 'has', 'been', 'being', 'by', 'didn', 'herself', 'needn', 'how', \"she's\", 'or', 'we', 'him', 'themselves', 'were', 'having', 'on', 'myself', 'between', 'once', 's', 'aren', 're', 'won', 'ma', 'same', 'she', 'until', 'my', 'most', 'shan', 'them', 'yourselves', 'such', \"mightn't\", 'theirs', \"won't\", 'but', 'nor', 'its', 'after', 'below', 'then', 'some', 'hadn', 'me', 'doing', \"you've\", 'more', 'than', 'why', 'had', 'did', 'they', 'your', 'y', \"isn't\", \"you'll\", \"it's\", 'haven', 'can', 'mustn', 'only', 'which', 'above', 'ain', 'd', \"shan't\", 'wasn', 'hers', 'that', 'so', \"mustn't\", 'who', 'if', \"you'd\", \"weren't\", \"you're\", \"wouldn't\", 'further', 'other', 'very', 'her', 'weren', 'o', 'the', 'he', 'through', 'be', 'yourself', 'into', 'couldn', \"hasn't\", 'those', 'as', 'himself', 'while', \"wasn't\", 'no', 'is', 'ourselves', 'where', \"doesn't\", 'a', 'to', 'll', 'in', 'now', \"didn't\", 've', 'don', 'from', 'mightn', 'are', 'you', 'their', \"aren't\", 'wouldn', 'these', 'own', 'his', 'few', 'whom', 'ours'}\n"
     ]
    }
   ],
   "source": [
    "from nltk.corpus import stopwords\n",
    "engStopwords = set(stopwords.words('english'))\n",
    "print(engStopwords)"
   ]
  },
  {
   "cell_type": "code",
   "execution_count": 16,
   "id": "ef2e55c0",
   "metadata": {},
   "outputs": [
    {
     "name": "stdout",
     "output_type": "stream",
     "text": [
      "['the', 'sun', 'cast', 'a', 'warm', 'golden', 'glow', 'over', 'the', 'tranquil', 'meadow', 'as', 'a', 'gentle', 'breeze', 'rustled', 'through', 'the', 'tall', 'grass', 'birds', 'chirped', 'melodiously', 'in', 'the', 'distance', 'their', 'joyful', 'songs', 'echoing', 'through', 'the', 'air', 'a', 'group', 'of', 'children', 'played', 'gleefully', 'near', 'a', 'sparkling', 'stream', 'their', 'laughter', 'contagious', 'and', 'full', 'of', 'pure', 'delight', 'butterflies', 'danced', 'gracefully', 'from', 'flower', 'to', 'flower', 'their', 'vibrant', 'colors', 'adding', 'to', 'the', 'tapestry', 'of', 'natures', 'beauty', 'it', 'was', 'a', 'moment', 'of', 'serenity', 'a', 'fleeting', 'glimpse', 'into', 'the', 'harmonious', 'symphony', 'of', 'life']\n",
      "['in', 'the', 'bustling', 'city', 'streets', 'the', 'sounds', 'of', 'car', 'horns', 'and', 'chatter', 'filled', 'the', 'air', 'creating', 'a', 'vibrant', 'cacophony', 'of', 'urban', 'life', 'skyscrapers', 'towered', 'overhead', 'their', 'glass', 'facades', 'reflecting', 'the', 'sunlight', 'and', 'creating', 'a', 'dazzling', 'display', 'people', 'hurried', 'by', 'their', 'footsteps', 'creating', 'a', 'rhythmic', 'beat', 'on', 'the', 'pavement', 'street', 'vendors', 'lined', 'the', 'sidewalks', 'their', 'colorful', 'stalls', 'bursting', 'with', 'a', 'variety', 'of', 'goods', 'and', 'enticing', 'aromas', 'the', 'city', 'buzzed', 'with', 'energy', 'and', 'excitement', 'each', 'corner', 'revealing', 'a', 'new', 'adventure', 'waiting', 'to', 'be', 'discovered', 'amidst', 'the', 'chaos', 'a', 'sense', 'of', 'possibility', 'hung', 'in', 'the', 'air', 'reminding', 'everyone', 'that', 'dreams', 'could', 'be', 'pursued', 'and', 'futures', 'could', 'be', 'shaped']\n"
     ]
    }
   ],
   "source": [
    "#Tokenization\n",
    "import nltk\n",
    "token1 = nltk.word_tokenize(str1)\n",
    "token2 = nltk.word_tokenize(str2)\n",
    "print(token1)\n",
    "print(token2)"
   ]
  },
  {
   "cell_type": "code",
   "execution_count": 17,
   "id": "435abaaf",
   "metadata": {},
   "outputs": [
    {
     "name": "stdout",
     "output_type": "stream",
     "text": [
      "**POS OF DOCUMENT 1**\n",
      "[('the', 'DT'), ('sun', 'NN'), ('cast', 'VBD'), ('a', 'DT'), ('warm', 'JJ'), ('golden', 'JJ'), ('glow', 'NN'), ('over', 'IN'), ('the', 'DT'), ('tranquil', 'JJ'), ('meadow', 'NN'), ('as', 'IN'), ('a', 'DT'), ('gentle', 'JJ'), ('breeze', 'NN'), ('rustled', 'VBD'), ('through', 'IN'), ('the', 'DT'), ('tall', 'JJ'), ('grass', 'NN'), ('birds', 'NNS'), ('chirped', 'VBD'), ('melodiously', 'RB'), ('in', 'IN'), ('the', 'DT'), ('distance', 'NN'), ('their', 'PRP$'), ('joyful', 'JJ'), ('songs', 'NNS'), ('echoing', 'VBG'), ('through', 'IN'), ('the', 'DT'), ('air', 'NN'), ('a', 'DT'), ('group', 'NN'), ('of', 'IN'), ('children', 'NNS'), ('played', 'VBN'), ('gleefully', 'RB'), ('near', 'IN'), ('a', 'DT'), ('sparkling', 'VBG'), ('stream', 'NN'), ('their', 'PRP$'), ('laughter', 'NN'), ('contagious', 'JJ'), ('and', 'CC'), ('full', 'JJ'), ('of', 'IN'), ('pure', 'JJ'), ('delight', 'NN'), ('butterflies', 'NNS'), ('danced', 'VBD'), ('gracefully', 'RB'), ('from', 'IN'), ('flower', 'JJR'), ('to', 'TO'), ('flower', 'VB'), ('their', 'PRP$'), ('vibrant', 'JJ'), ('colors', 'NNS'), ('adding', 'VBG'), ('to', 'TO'), ('the', 'DT'), ('tapestry', 'NN'), ('of', 'IN'), ('natures', 'NNS'), ('beauty', 'VBP'), ('it', 'PRP'), ('was', 'VBD'), ('a', 'DT'), ('moment', 'NN'), ('of', 'IN'), ('serenity', 'NN'), ('a', 'DT'), ('fleeting', 'NN'), ('glimpse', 'NN'), ('into', 'IN'), ('the', 'DT'), ('harmonious', 'JJ'), ('symphony', 'NN'), ('of', 'IN'), ('life', 'NN')]\n",
      "**POS OF DOCUMENT 2**\n",
      "[('in', 'IN'), ('the', 'DT'), ('bustling', 'NN'), ('city', 'NN'), ('streets', 'VBZ'), ('the', 'DT'), ('sounds', 'NNS'), ('of', 'IN'), ('car', 'NN'), ('horns', 'NNS'), ('and', 'CC'), ('chatter', 'NN'), ('filled', 'VBD'), ('the', 'DT'), ('air', 'NN'), ('creating', 'VBG'), ('a', 'DT'), ('vibrant', 'JJ'), ('cacophony', 'NN'), ('of', 'IN'), ('urban', 'JJ'), ('life', 'NN'), ('skyscrapers', 'NNS'), ('towered', 'VBD'), ('overhead', 'RP'), ('their', 'PRP$'), ('glass', 'NN'), ('facades', 'NNS'), ('reflecting', 'VBG'), ('the', 'DT'), ('sunlight', 'NN'), ('and', 'CC'), ('creating', 'VBG'), ('a', 'DT'), ('dazzling', 'JJ'), ('display', 'NN'), ('people', 'NNS'), ('hurried', 'VBN'), ('by', 'IN'), ('their', 'PRP$'), ('footsteps', 'NNS'), ('creating', 'VBG'), ('a', 'DT'), ('rhythmic', 'JJ'), ('beat', 'NN'), ('on', 'IN'), ('the', 'DT'), ('pavement', 'JJ'), ('street', 'NN'), ('vendors', 'NNS'), ('lined', 'VBD'), ('the', 'DT'), ('sidewalks', 'NNS'), ('their', 'PRP$'), ('colorful', 'JJ'), ('stalls', 'NNS'), ('bursting', 'VBG'), ('with', 'IN'), ('a', 'DT'), ('variety', 'NN'), ('of', 'IN'), ('goods', 'NNS'), ('and', 'CC'), ('enticing', 'VBG'), ('aromas', 'IN'), ('the', 'DT'), ('city', 'NN'), ('buzzed', 'VBN'), ('with', 'IN'), ('energy', 'NN'), ('and', 'CC'), ('excitement', 'JJ'), ('each', 'DT'), ('corner', 'NN'), ('revealing', 'VBG'), ('a', 'DT'), ('new', 'JJ'), ('adventure', 'NN'), ('waiting', 'VBG'), ('to', 'TO'), ('be', 'VB'), ('discovered', 'VBN'), ('amidst', 'IN'), ('the', 'DT'), ('chaos', 'NN'), ('a', 'DT'), ('sense', 'NN'), ('of', 'IN'), ('possibility', 'NN'), ('hung', 'NN'), ('in', 'IN'), ('the', 'DT'), ('air', 'NN'), ('reminding', 'VBG'), ('everyone', 'NN'), ('that', 'WDT'), ('dreams', 'NNS'), ('could', 'MD'), ('be', 'VB'), ('pursued', 'VBN'), ('and', 'CC'), ('futures', 'NNS'), ('could', 'MD'), ('be', 'VB'), ('shaped', 'VBN')]\n"
     ]
    }
   ],
   "source": [
    "#POS Tagging\n",
    "print(\"**POS OF DOCUMENT 1**\")\n",
    "print(nltk.pos_tag(token1))\n",
    "print(\"**POS OF DOCUMENT 2**\")\n",
    "print(nltk.pos_tag(token2))"
   ]
  },
  {
   "cell_type": "code",
   "execution_count": 20,
   "id": "178377c2",
   "metadata": {},
   "outputs": [
    {
     "name": "stdout",
     "output_type": "stream",
     "text": [
      "Processed document 1\n",
      "\n",
      "['sun', 'cast', 'warm', 'golden', 'glow', 'tranquil', 'meadow', 'gentle', 'breeze', 'rustled', 'tall', 'grass', 'birds', 'chirped', 'melodiously', 'distance', 'joyful', 'songs', 'echoing', 'air', 'group', 'children', 'played', 'gleefully', 'near', 'sparkling', 'stream', 'laughter', 'contagious', 'full', 'pure', 'delight', 'butterflies', 'danced', 'gracefully', 'flower', 'flower', 'vibrant', 'colors', 'adding', 'tapestry', 'natures', 'beauty', 'moment', 'serenity', 'fleeting', 'glimpse', 'harmonious', 'symphony', 'life'] \n",
      "\n",
      "Processed document 2\n",
      "\n",
      "['bustling', 'city', 'streets', 'sounds', 'car', 'horns', 'chatter', 'filled', 'air', 'creating', 'vibrant', 'cacophony', 'urban', 'life', 'skyscrapers', 'towered', 'overhead', 'glass', 'facades', 'reflecting', 'sunlight', 'creating', 'dazzling', 'display', 'people', 'hurried', 'footsteps', 'creating', 'rhythmic', 'beat', 'pavement', 'street', 'vendors', 'lined', 'sidewalks', 'colorful', 'stalls', 'bursting', 'variety', 'goods', 'enticing', 'aromas', 'city', 'buzzed', 'energy', 'excitement', 'corner', 'revealing', 'new', 'adventure', 'waiting', 'discovered', 'amidst', 'chaos', 'sense', 'possibility', 'hung', 'air', 'reminding', 'everyone', 'dreams', 'could', 'pursued', 'futures', 'could', 'shaped']\n"
     ]
    }
   ],
   "source": [
    "#Removing stopwords\n",
    "f1 = []\n",
    "f2 = []\n",
    "for i in token1:\n",
    "    if i not in engStopwords:\n",
    "        f1.append(i)\n",
    "for i in token2:\n",
    "    if i not in engStopwords:\n",
    "        f2.append(i)\n",
    "print(\"Processed document 1\\n\")\n",
    "print(f1,\"\\n\")\n",
    "print(\"Processed document 2\\n\")\n",
    "print(f2)"
   ]
  },
  {
   "cell_type": "code",
   "execution_count": 21,
   "id": "a9a09a63",
   "metadata": {},
   "outputs": [],
   "source": [
    "#Stemming\n",
    "from nltk.stem import PorterStemmer\n",
    "ps = PorterStemmer()\n",
    "stemmed1 = {}\n",
    "stemmed2 = {}\n",
    "for i in f1:\n",
    "    if i not in stemmed1:\n",
    "        stemmed1.update({i:ps.stem(i)})\n",
    "for i in f2:\n",
    "    if i not in stemmed2:\n",
    "        stemmed2.update({i:ps.stem(i)})"
   ]
  },
  {
   "cell_type": "code",
   "execution_count": 24,
   "id": "48935260",
   "metadata": {},
   "outputs": [
    {
     "name": "stdout",
     "output_type": "stream",
     "text": [
      "**STEMMED DOCUMENT 1**\n",
      "\n",
      "{'sun': 'sun', 'cast': 'cast', 'warm': 'warm', 'golden': 'golden', 'glow': 'glow', 'tranquil': 'tranquil', 'meadow': 'meadow', 'gentle': 'gentl', 'breeze': 'breez', 'rustled': 'rustl', 'tall': 'tall', 'grass': 'grass', 'birds': 'bird', 'chirped': 'chirp', 'melodiously': 'melodi', 'distance': 'distanc', 'joyful': 'joy', 'songs': 'song', 'echoing': 'echo', 'air': 'air', 'group': 'group', 'children': 'children', 'played': 'play', 'gleefully': 'gleefulli', 'near': 'near', 'sparkling': 'sparkl', 'stream': 'stream', 'laughter': 'laughter', 'contagious': 'contagi', 'full': 'full', 'pure': 'pure', 'delight': 'delight', 'butterflies': 'butterfli', 'danced': 'danc', 'gracefully': 'grace', 'flower': 'flower', 'vibrant': 'vibrant', 'colors': 'color', 'adding': 'ad', 'tapestry': 'tapestri', 'natures': 'natur', 'beauty': 'beauti', 'moment': 'moment', 'serenity': 'seren', 'fleeting': 'fleet', 'glimpse': 'glimps', 'harmonious': 'harmoni', 'symphony': 'symphoni', 'life': 'life'} \n",
      "\n",
      "**STEMMED DOCUMENT 2**\n",
      "\n",
      "{'bustling': 'bustl', 'city': 'citi', 'streets': 'street', 'sounds': 'sound', 'car': 'car', 'horns': 'horn', 'chatter': 'chatter', 'filled': 'fill', 'air': 'air', 'creating': 'creat', 'vibrant': 'vibrant', 'cacophony': 'cacophoni', 'urban': 'urban', 'life': 'life', 'skyscrapers': 'skyscrap', 'towered': 'tower', 'overhead': 'overhead', 'glass': 'glass', 'facades': 'facad', 'reflecting': 'reflect', 'sunlight': 'sunlight', 'dazzling': 'dazzl', 'display': 'display', 'people': 'peopl', 'hurried': 'hurri', 'footsteps': 'footstep', 'rhythmic': 'rhythmic', 'beat': 'beat', 'pavement': 'pavement', 'street': 'street', 'vendors': 'vendor', 'lined': 'line', 'sidewalks': 'sidewalk', 'colorful': 'color', 'stalls': 'stall', 'bursting': 'burst', 'variety': 'varieti', 'goods': 'good', 'enticing': 'entic', 'aromas': 'aroma', 'buzzed': 'buzz', 'energy': 'energi', 'excitement': 'excit', 'corner': 'corner', 'revealing': 'reveal', 'new': 'new', 'adventure': 'adventur', 'waiting': 'wait', 'discovered': 'discov', 'amidst': 'amidst', 'chaos': 'chao', 'sense': 'sens', 'possibility': 'possibl', 'hung': 'hung', 'reminding': 'remind', 'everyone': 'everyon', 'dreams': 'dream', 'could': 'could', 'pursued': 'pursu', 'futures': 'futur', 'shaped': 'shape'}\n"
     ]
    }
   ],
   "source": [
    "print(\"**STEMMED DOCUMENT 1**\\n\")\n",
    "print(stemmed1,\"\\n\")\n",
    "print(\"**STEMMED DOCUMENT 2**\\n\")\n",
    "print(stemmed2)"
   ]
  },
  {
   "cell_type": "code",
   "execution_count": 25,
   "id": "9f1cacbd",
   "metadata": {},
   "outputs": [],
   "source": [
    "#Lemmatization\n",
    "from nltk.stem import WordNetLemmatizer\n",
    "l = WordNetLemmatizer()\n",
    "lemmed1 = {}\n",
    "lemmed2 = {}\n",
    "for i in f1:\n",
    "    if i not in lemmed1:\n",
    "        lemmed1.update({i:l.lemmatize(i)})\n",
    "for i in f2:\n",
    "    if i not in lemmed2:\n",
    "        lemmed2.update({i:l.lemmatize(i)})"
   ]
  },
  {
   "cell_type": "code",
   "execution_count": 26,
   "id": "3849d461",
   "metadata": {},
   "outputs": [
    {
     "name": "stdout",
     "output_type": "stream",
     "text": [
      "**LEMMATIZED DOCUMENT 1**\n",
      "\n",
      "{'sun': 'sun', 'cast': 'cast', 'warm': 'warm', 'golden': 'golden', 'glow': 'glow', 'tranquil': 'tranquil', 'meadow': 'meadow', 'gentle': 'gentle', 'breeze': 'breeze', 'rustled': 'rustled', 'tall': 'tall', 'grass': 'grass', 'birds': 'bird', 'chirped': 'chirped', 'melodiously': 'melodiously', 'distance': 'distance', 'joyful': 'joyful', 'songs': 'song', 'echoing': 'echoing', 'air': 'air', 'group': 'group', 'children': 'child', 'played': 'played', 'gleefully': 'gleefully', 'near': 'near', 'sparkling': 'sparkling', 'stream': 'stream', 'laughter': 'laughter', 'contagious': 'contagious', 'full': 'full', 'pure': 'pure', 'delight': 'delight', 'butterflies': 'butterfly', 'danced': 'danced', 'gracefully': 'gracefully', 'flower': 'flower', 'vibrant': 'vibrant', 'colors': 'color', 'adding': 'adding', 'tapestry': 'tapestry', 'natures': 'nature', 'beauty': 'beauty', 'moment': 'moment', 'serenity': 'serenity', 'fleeting': 'fleeting', 'glimpse': 'glimpse', 'harmonious': 'harmonious', 'symphony': 'symphony', 'life': 'life'} \n",
      "\n",
      "**LEMMATIZED DOCUMENT 2**\n",
      "\n",
      "{'bustling': 'bustling', 'city': 'city', 'streets': 'street', 'sounds': 'sound', 'car': 'car', 'horns': 'horn', 'chatter': 'chatter', 'filled': 'filled', 'air': 'air', 'creating': 'creating', 'vibrant': 'vibrant', 'cacophony': 'cacophony', 'urban': 'urban', 'life': 'life', 'skyscrapers': 'skyscraper', 'towered': 'towered', 'overhead': 'overhead', 'glass': 'glass', 'facades': 'facade', 'reflecting': 'reflecting', 'sunlight': 'sunlight', 'dazzling': 'dazzling', 'display': 'display', 'people': 'people', 'hurried': 'hurried', 'footsteps': 'footstep', 'rhythmic': 'rhythmic', 'beat': 'beat', 'pavement': 'pavement', 'street': 'street', 'vendors': 'vendor', 'lined': 'lined', 'sidewalks': 'sidewalk', 'colorful': 'colorful', 'stalls': 'stall', 'bursting': 'bursting', 'variety': 'variety', 'goods': 'good', 'enticing': 'enticing', 'aromas': 'aroma', 'buzzed': 'buzzed', 'energy': 'energy', 'excitement': 'excitement', 'corner': 'corner', 'revealing': 'revealing', 'new': 'new', 'adventure': 'adventure', 'waiting': 'waiting', 'discovered': 'discovered', 'amidst': 'amidst', 'chaos': 'chaos', 'sense': 'sense', 'possibility': 'possibility', 'hung': 'hung', 'reminding': 'reminding', 'everyone': 'everyone', 'dreams': 'dream', 'could': 'could', 'pursued': 'pursued', 'futures': 'future', 'shaped': 'shaped'}\n"
     ]
    }
   ],
   "source": [
    "print(\"**LEMMATIZED DOCUMENT 1**\\n\")\n",
    "print(lemmed1,\"\\n\")\n",
    "print(\"**LEMMATIZED DOCUMENT 2**\\n\")\n",
    "print(lemmed2)"
   ]
  },
  {
   "cell_type": "code",
   "execution_count": 27,
   "id": "0cf91f13",
   "metadata": {},
   "outputs": [],
   "source": [
    "#Term frequency\n",
    "t1 = {}\n",
    "t2 = {}\n",
    "for i in f1:\n",
    "    if i not in t1:\n",
    "        t1.update({i:((f1.count(i))/len(f1))})\n",
    "for i in f2:\n",
    "    if i not in t2:\n",
    "        t2.update({i:f2.count(i)/len(f2)})"
   ]
  },
  {
   "cell_type": "code",
   "execution_count": 28,
   "id": "51e4ad6d",
   "metadata": {},
   "outputs": [
    {
     "name": "stdout",
     "output_type": "stream",
     "text": [
      "Term frequency of document 1\n",
      "\n",
      "{'sun': 0.02, 'cast': 0.02, 'warm': 0.02, 'golden': 0.02, 'glow': 0.02, 'tranquil': 0.02, 'meadow': 0.02, 'gentle': 0.02, 'breeze': 0.02, 'rustled': 0.02, 'tall': 0.02, 'grass': 0.02, 'birds': 0.02, 'chirped': 0.02, 'melodiously': 0.02, 'distance': 0.02, 'joyful': 0.02, 'songs': 0.02, 'echoing': 0.02, 'air': 0.02, 'group': 0.02, 'children': 0.02, 'played': 0.02, 'gleefully': 0.02, 'near': 0.02, 'sparkling': 0.02, 'stream': 0.02, 'laughter': 0.02, 'contagious': 0.02, 'full': 0.02, 'pure': 0.02, 'delight': 0.02, 'butterflies': 0.02, 'danced': 0.02, 'gracefully': 0.02, 'flower': 0.04, 'vibrant': 0.02, 'colors': 0.02, 'adding': 0.02, 'tapestry': 0.02, 'natures': 0.02, 'beauty': 0.02, 'moment': 0.02, 'serenity': 0.02, 'fleeting': 0.02, 'glimpse': 0.02, 'harmonious': 0.02, 'symphony': 0.02, 'life': 0.02} \n",
      "\n",
      "Term frequency of document 2\n",
      "\n",
      "{'bustling': 0.015151515151515152, 'city': 0.030303030303030304, 'streets': 0.015151515151515152, 'sounds': 0.015151515151515152, 'car': 0.015151515151515152, 'horns': 0.015151515151515152, 'chatter': 0.015151515151515152, 'filled': 0.015151515151515152, 'air': 0.030303030303030304, 'creating': 0.045454545454545456, 'vibrant': 0.015151515151515152, 'cacophony': 0.015151515151515152, 'urban': 0.015151515151515152, 'life': 0.015151515151515152, 'skyscrapers': 0.015151515151515152, 'towered': 0.015151515151515152, 'overhead': 0.015151515151515152, 'glass': 0.015151515151515152, 'facades': 0.015151515151515152, 'reflecting': 0.015151515151515152, 'sunlight': 0.015151515151515152, 'dazzling': 0.015151515151515152, 'display': 0.015151515151515152, 'people': 0.015151515151515152, 'hurried': 0.015151515151515152, 'footsteps': 0.015151515151515152, 'rhythmic': 0.015151515151515152, 'beat': 0.015151515151515152, 'pavement': 0.015151515151515152, 'street': 0.015151515151515152, 'vendors': 0.015151515151515152, 'lined': 0.015151515151515152, 'sidewalks': 0.015151515151515152, 'colorful': 0.015151515151515152, 'stalls': 0.015151515151515152, 'bursting': 0.015151515151515152, 'variety': 0.015151515151515152, 'goods': 0.015151515151515152, 'enticing': 0.015151515151515152, 'aromas': 0.015151515151515152, 'buzzed': 0.015151515151515152, 'energy': 0.015151515151515152, 'excitement': 0.015151515151515152, 'corner': 0.015151515151515152, 'revealing': 0.015151515151515152, 'new': 0.015151515151515152, 'adventure': 0.015151515151515152, 'waiting': 0.015151515151515152, 'discovered': 0.015151515151515152, 'amidst': 0.015151515151515152, 'chaos': 0.015151515151515152, 'sense': 0.015151515151515152, 'possibility': 0.015151515151515152, 'hung': 0.015151515151515152, 'reminding': 0.015151515151515152, 'everyone': 0.015151515151515152, 'dreams': 0.015151515151515152, 'could': 0.030303030303030304, 'pursued': 0.015151515151515152, 'futures': 0.015151515151515152, 'shaped': 0.015151515151515152}\n"
     ]
    }
   ],
   "source": [
    "print(\"Term frequency of document 1\\n\")\n",
    "print(t1,\"\\n\")\n",
    "print(\"Term frequency of document 2\\n\")\n",
    "print(t2)"
   ]
  },
  {
   "cell_type": "code",
   "execution_count": 30,
   "id": "67a26dd1",
   "metadata": {},
   "outputs": [],
   "source": [
    "#Inverse documnet frequency\n",
    "import numpy as np\n",
    "import math\n",
    "idf1 = {}\n",
    "idf2 = {}\n",
    "for i in f1:\n",
    "    cnt = 1\n",
    "    if i in f2:\n",
    "        cnt += 1\n",
    "    if i not in idf1:\n",
    "        idf1.update({i:math.log(2/cnt)})\n",
    "for i in f2:\n",
    "    cnt = 1\n",
    "    if i in f1:\n",
    "        cnt += 1\n",
    "    if i not in idf2:\n",
    "        idf2.update({i:math.log(2/cnt)})"
   ]
  },
  {
   "cell_type": "code",
   "execution_count": 31,
   "id": "cd5a44aa",
   "metadata": {},
   "outputs": [
    {
     "name": "stdout",
     "output_type": "stream",
     "text": [
      "Inverse document frequency for Document 1\n",
      "\n",
      "{'sun': 0.6931471805599453, 'cast': 0.6931471805599453, 'warm': 0.6931471805599453, 'golden': 0.6931471805599453, 'glow': 0.6931471805599453, 'tranquil': 0.6931471805599453, 'meadow': 0.6931471805599453, 'gentle': 0.6931471805599453, 'breeze': 0.6931471805599453, 'rustled': 0.6931471805599453, 'tall': 0.6931471805599453, 'grass': 0.6931471805599453, 'birds': 0.6931471805599453, 'chirped': 0.6931471805599453, 'melodiously': 0.6931471805599453, 'distance': 0.6931471805599453, 'joyful': 0.6931471805599453, 'songs': 0.6931471805599453, 'echoing': 0.6931471805599453, 'air': 0.0, 'group': 0.6931471805599453, 'children': 0.6931471805599453, 'played': 0.6931471805599453, 'gleefully': 0.6931471805599453, 'near': 0.6931471805599453, 'sparkling': 0.6931471805599453, 'stream': 0.6931471805599453, 'laughter': 0.6931471805599453, 'contagious': 0.6931471805599453, 'full': 0.6931471805599453, 'pure': 0.6931471805599453, 'delight': 0.6931471805599453, 'butterflies': 0.6931471805599453, 'danced': 0.6931471805599453, 'gracefully': 0.6931471805599453, 'flower': 0.6931471805599453, 'vibrant': 0.0, 'colors': 0.6931471805599453, 'adding': 0.6931471805599453, 'tapestry': 0.6931471805599453, 'natures': 0.6931471805599453, 'beauty': 0.6931471805599453, 'moment': 0.6931471805599453, 'serenity': 0.6931471805599453, 'fleeting': 0.6931471805599453, 'glimpse': 0.6931471805599453, 'harmonious': 0.6931471805599453, 'symphony': 0.6931471805599453, 'life': 0.0} \n",
      "\n",
      "Inverse document frequency for Document 2\n",
      "\n",
      "{'bustling': 0.6931471805599453, 'city': 0.6931471805599453, 'streets': 0.6931471805599453, 'sounds': 0.6931471805599453, 'car': 0.6931471805599453, 'horns': 0.6931471805599453, 'chatter': 0.6931471805599453, 'filled': 0.6931471805599453, 'air': 0.0, 'creating': 0.6931471805599453, 'vibrant': 0.0, 'cacophony': 0.6931471805599453, 'urban': 0.6931471805599453, 'life': 0.0, 'skyscrapers': 0.6931471805599453, 'towered': 0.6931471805599453, 'overhead': 0.6931471805599453, 'glass': 0.6931471805599453, 'facades': 0.6931471805599453, 'reflecting': 0.6931471805599453, 'sunlight': 0.6931471805599453, 'dazzling': 0.6931471805599453, 'display': 0.6931471805599453, 'people': 0.6931471805599453, 'hurried': 0.6931471805599453, 'footsteps': 0.6931471805599453, 'rhythmic': 0.6931471805599453, 'beat': 0.6931471805599453, 'pavement': 0.6931471805599453, 'street': 0.6931471805599453, 'vendors': 0.6931471805599453, 'lined': 0.6931471805599453, 'sidewalks': 0.6931471805599453, 'colorful': 0.6931471805599453, 'stalls': 0.6931471805599453, 'bursting': 0.6931471805599453, 'variety': 0.6931471805599453, 'goods': 0.6931471805599453, 'enticing': 0.6931471805599453, 'aromas': 0.6931471805599453, 'buzzed': 0.6931471805599453, 'energy': 0.6931471805599453, 'excitement': 0.6931471805599453, 'corner': 0.6931471805599453, 'revealing': 0.6931471805599453, 'new': 0.6931471805599453, 'adventure': 0.6931471805599453, 'waiting': 0.6931471805599453, 'discovered': 0.6931471805599453, 'amidst': 0.6931471805599453, 'chaos': 0.6931471805599453, 'sense': 0.6931471805599453, 'possibility': 0.6931471805599453, 'hung': 0.6931471805599453, 'reminding': 0.6931471805599453, 'everyone': 0.6931471805599453, 'dreams': 0.6931471805599453, 'could': 0.6931471805599453, 'pursued': 0.6931471805599453, 'futures': 0.6931471805599453, 'shaped': 0.6931471805599453}\n"
     ]
    }
   ],
   "source": [
    "print(\"Inverse document frequency for Document 1\\n\")\n",
    "print(idf1,\"\\n\")\n",
    "print(\"Inverse document frequency for Document 2\\n\")\n",
    "print(idf2)"
   ]
  },
  {
   "cell_type": "code",
   "execution_count": null,
   "id": "6a788051",
   "metadata": {},
   "outputs": [],
   "source": []
  }
 ],
 "metadata": {
  "kernelspec": {
   "display_name": "Python 3 (ipykernel)",
   "language": "python",
   "name": "python3"
  },
  "language_info": {
   "codemirror_mode": {
    "name": "ipython",
    "version": 3
   },
   "file_extension": ".py",
   "mimetype": "text/x-python",
   "name": "python",
   "nbconvert_exporter": "python",
   "pygments_lexer": "ipython3",
   "version": "3.10.1"
  }
 },
 "nbformat": 4,
 "nbformat_minor": 5
}
